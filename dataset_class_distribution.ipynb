{
 "cells": [
  {
   "cell_type": "code",
   "id": "initial_id",
   "metadata": {
    "collapsed": true,
    "ExecuteTime": {
     "end_time": "2025-06-05T19:27:52.222133Z",
     "start_time": "2025-06-05T19:27:50.415160Z"
    }
   },
   "source": [
    "import numpy as np\n",
    "from dataloader import get_data_generators"
   ],
   "outputs": [
    {
     "name": "stderr",
     "output_type": "stream",
     "text": [
      "C:\\Users\\slywi\\anaconda3\\envs\\tf_gpu\\lib\\site-packages\\requests\\__init__.py:86: RequestsDependencyWarning: Unable to find acceptable character detection dependency (chardet or charset_normalizer).\n",
      "  warnings.warn(\n"
     ]
    }
   ],
   "execution_count": 1
  },
  {
   "metadata": {
    "ExecuteTime": {
     "end_time": "2025-06-05T19:27:57.383146Z",
     "start_time": "2025-06-05T19:27:53.216808Z"
    }
   },
   "cell_type": "code",
   "source": "train_gen, val_gen, _ = get_data_generators()",
   "id": "64a87a20a0645450",
   "outputs": [
    {
     "name": "stdout",
     "output_type": "stream",
     "text": [
      "Found 140002 images belonging to 2 classes.\n",
      "Found 39428 images belonging to 2 classes.\n",
      "Found 10905 images belonging to 2 classes.\n"
     ]
    }
   ],
   "execution_count": 2
  },
  {
   "metadata": {
    "ExecuteTime": {
     "end_time": "2025-06-05T19:28:13.157757Z",
     "start_time": "2025-06-05T19:28:13.137251Z"
    }
   },
   "cell_type": "code",
   "source": [
    "print(\"Class indices:\", train_gen.class_indices)\n",
    "\n",
    "print(\"Class distribution:\", np.bincount(train_gen.classes))"
   ],
   "id": "df21a96202f14a97",
   "outputs": [
    {
     "name": "stdout",
     "output_type": "stream",
     "text": [
      "Class indices: {'Fake': 0, 'Real': 1}\n",
      "Class distribution: [70001 70001]\n"
     ]
    }
   ],
   "execution_count": 3
  }
 ],
 "metadata": {
  "kernelspec": {
   "display_name": "Python 3",
   "language": "python",
   "name": "python3"
  },
  "language_info": {
   "codemirror_mode": {
    "name": "ipython",
    "version": 2
   },
   "file_extension": ".py",
   "mimetype": "text/x-python",
   "name": "python",
   "nbconvert_exporter": "python",
   "pygments_lexer": "ipython2",
   "version": "2.7.6"
  }
 },
 "nbformat": 4,
 "nbformat_minor": 5
}
