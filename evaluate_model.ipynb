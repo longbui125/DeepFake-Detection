{
 "cells": [
  {
   "cell_type": "code",
   "id": "initial_id",
   "metadata": {
    "collapsed": true,
    "ExecuteTime": {
     "end_time": "2025-06-07T03:58:44.831822Z",
     "start_time": "2025-06-07T03:58:44.812952Z"
    }
   },
   "source": [
    "import numpy as np\n",
    "import tensorflow as tf\n",
    "from sklearn.metrics import classification_report, confusion_matrix, accuracy_score\n",
    "import matplotlib.pyplot as plt\n",
    "import seaborn as sns\n",
    "from tensorflow.keras.optimizers import Adam\n",
    "\n",
    "from dataloader import get_data_generators\n",
    "from model_build import build_resnet50"
   ],
   "outputs": [],
   "execution_count": 6
  },
  {
   "metadata": {
    "ExecuteTime": {
     "end_time": "2025-06-07T03:57:52.084060Z",
     "start_time": "2025-06-07T03:57:47.806411Z"
    }
   },
   "cell_type": "code",
   "source": [
    "img_size = (224, 224)\n",
    "batch_size = 8\n",
    "data_dir = 'Dataset'\n",
    "model_path = 'model.h5'\n",
    "\n",
    "# Load test data\n",
    "_, _, test_gen = get_data_generators(\n",
    "    data_dir=data_dir,\n",
    "    img_size=img_size,\n",
    "    batch_size=batch_size)"
   ],
   "id": "9f80f1040070fcf9",
   "outputs": [
    {
     "name": "stdout",
     "output_type": "stream",
     "text": [
      "Found 140002 images belonging to 2 classes.\n",
      "Found 39428 images belonging to 2 classes.\n",
      "Found 10905 images belonging to 2 classes.\n"
     ]
    }
   ],
   "execution_count": 3
  },
  {
   "metadata": {
    "ExecuteTime": {
     "end_time": "2025-06-07T03:58:47.795978Z",
     "start_time": "2025-06-07T03:58:46.683652Z"
    }
   },
   "cell_type": "code",
   "source": [
    "model, base_model = build_resnet50(input_shape=img_size + (3,))\n",
    "model.compile(optimizer=Adam(learning_rate=1e-4),\n",
    "              loss='binary_crossentropy',\n",
    "              metrics=['accuracy'])\n",
    "model.load_weights(model_path)"
   ],
   "id": "cb60873051d1d92f",
   "outputs": [],
   "execution_count": 7
  },
  {
   "metadata": {
    "ExecuteTime": {
     "end_time": "2025-06-07T03:59:46.910539Z",
     "start_time": "2025-06-07T03:58:49.377932Z"
    }
   },
   "cell_type": "code",
   "source": [
    "y_prob = model.predict(test_gen)\n",
    "y_pred = (y_prob > 0.6).astype(int).flatten()\n",
    "y_true = test_gen.classes\n"
   ],
   "id": "aea3854c2b72c059",
   "outputs": [
    {
     "name": "stdout",
     "output_type": "stream",
     "text": [
      "1364/1364 [==============================] - 57s 40ms/step\n"
     ]
    }
   ],
   "execution_count": 8
  },
  {
   "metadata": {
    "ExecuteTime": {
     "end_time": "2025-06-07T04:00:08.047032Z",
     "start_time": "2025-06-07T04:00:07.924757Z"
    }
   },
   "cell_type": "code",
   "source": [
    "cm = confusion_matrix(y_true, y_pred)\n",
    "plt.figure(figsize=(6, 4))\n",
    "sns.heatmap(cm, annot=True, fmt=\"d\", cmap=\"Blues\",\n",
    "            xticklabels=test_gen.class_indices,\n",
    "            yticklabels=test_gen.class_indices)\n",
    "plt.xlabel(\"Predicted\")\n",
    "plt.ylabel(\"True\")\n",
    "plt.title(\"Confusion Matrix\")\n",
    "plt.show()"
   ],
   "id": "ba59e81e950beed3",
   "outputs": [
    {
     "data": {
      "text/plain": [
       "<Figure size 600x400 with 2 Axes>"
      ],
      "image/png": "[encoded data removed]"
     },
     "metadata": {},
     "output_type": "display_data"
    }
   ],
   "execution_count": 9
  },
  {
   "metadata": {
    "ExecuteTime": {
     "end_time": "2025-06-07T04:00:12.529978Z",
     "start_time": "2025-06-07T04:00:12.518837Z"
    }
   },
   "cell_type": "code",
   "source": [
    "print(\"Classification Report:\")\n",
    "print(classification_report(y_true, y_pred, target_names=test_gen.class_indices.keys()))"
   ],
   "id": "dc856c8c35aeb54a",
   "outputs": [
    {
     "name": "stdout",
     "output_type": "stream",
     "text": [
      "Classification Report:\n",
      "              precision    recall  f1-score   support\n",
      "\n",
      "        Fake       0.90      0.97      0.94      5492\n",
      "        Real       0.97      0.89      0.93      5413\n",
      "\n",
      "    accuracy                           0.93     10905\n",
      "   macro avg       0.94      0.93      0.93     10905\n",
      "weighted avg       0.94      0.93      0.93     10905\n",
      "\n"
     ]
    }
   ],
   "execution_count": 10
  },
  {
   "metadata": {
    "ExecuteTime": {
     "end_time": "2025-06-07T04:00:15.230214Z",
     "start_time": "2025-06-07T04:00:15.217878Z"
    }
   },
   "cell_type": "code",
   "source": [
    "acc = accuracy_score(y_true, y_pred)\n",
    "print(f\"Accuracy: {acc:.4f}\")"
   ],
   "id": "916b5c32b0b8c726",
   "outputs": [
    {
     "name": "stdout",
     "output_type": "stream",
     "text": [
      "Accuracy: 0.9345\n"
     ]
    }
   ],
   "execution_count": 11
  }
 ],
 "metadata": {
  "kernelspec": {
   "display_name": "Python 3",
   "language": "python",
   "name": "python3"
  },
  "language_info": {
   "codemirror_mode": {
    "name": "ipython",
    "version": 2
   },
   "file_extension": ".py",
   "mimetype": "text/x-python",
   "name": "python",
   "nbconvert_exporter": "python",
   "pygments_lexer": "ipython2",
   "version": "2.7.6"
  }
 },
 "nbformat": 4,
 "nbformat_minor": 5
}
